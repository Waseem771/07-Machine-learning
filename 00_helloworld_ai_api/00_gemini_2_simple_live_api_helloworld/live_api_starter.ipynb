{
  "cells": [
    {
      "cell_type": "markdown",
      "metadata": {
        "id": "view-in-github",
        "colab_type": "text"
      },
      "source": [
        "<a href=\"https://colab.research.google.com/github/Waseem771/07-Machine-learning/blob/main/00_helloworld_ai_api/00_gemini_2_simple_live_api_helloworld/live_api_starter.ipynb\" target=\"_parent\"><img src=\"https://colab.research.google.com/assets/colab-badge.svg\" alt=\"Open In Colab\"/></a>"
      ]
    },
    {
      "cell_type": "markdown",
      "metadata": {
        "id": "Tce3stUlHN0L"
      },
      "source": [
        "##### Copyright 2024 Google LLC."
      ]
    },
    {
      "cell_type": "code",
      "execution_count": null,
      "metadata": {
        "cellView": "form",
        "id": "tuOe1ymfHZPu"
      },
      "outputs": [],
      "source": [
        "#@title Licensed under the Apache License, Version 2.0 (the \"License\");\n",
        "# you may not use this file except in compliance with the License.\n",
        "# You may obtain a copy of the License at\n",
        "#\n",
        "# https://www.apache.org/licenses/LICENSE-2.0\n",
        "#\n",
        "# Unless required by applicable law or agreed to in writing, software\n",
        "# distributed under the License is distributed on an \"AS IS\" BASIS,\n",
        "# WITHOUT WARRANTIES OR CONDITIONS OF ANY KIND, either express or implied.\n",
        "# See the License for the specific language governing permissions and\n",
        "# limitations under the License."
      ]
    },
    {
      "cell_type": "markdown",
      "metadata": {
        "id": "R5DkeFMP75as"
      },
      "source": [
        "# Live API - Quickstart"
      ]
    },
    {
      "cell_type": "markdown",
      "metadata": {
        "id": "tqktCVDm1yFo"
      },
      "source": [
        "<table align=\"left\">\n",
        "  <td>\n",
        "    <a target=\"_blank\" href=\"https://colab.research.google.com/github/panaversity/learn-agentic-ai/blob/main/00_helloworld_ai_api/00_gemini_2_simple_live_api_helloworld/live_api_starter.ipynb\"><img src=\"https://ai.google.dev/site-assets/images/docs/colab_logo_32px.png\" />Run in Google Colab</a>\n",
        "  </td>\n",
        "</table>"
      ]
    },
    {
      "cell_type": "markdown",
      "metadata": {
        "id": "iS0rHk3RBrtA"
      },
      "source": [
        "# Google Gen AI SDK (experimental)\n",
        "The new Google Gen AI SDK provides a unified interface to Gemini 2.0 through both the Gemini Developer API and the Gemini API on Vertex AI. With a few exceptions, code that runs on one platform will run on both. This means that you can prototype an application using the Developer API and then migrate the application to Vertex AI without rewriting your code.\n",
        "\n",
        "The Gen AI SDK also supports the Gemini 1.5 models.\n",
        "\n",
        "The new SDK is available in Python and Go, with Java and JavaScript coming soon.\n",
        "\n",
        "You can start using the SDK as shown below.\n",
        "\n",
        "Install the new SDK: pip install google-genai\n",
        "\n",
        "Then import the library, initialize a client, and generate content:"
      ]
    },
    {
      "cell_type": "markdown",
      "metadata": {
        "id": "Mfk6YY3G5kqp"
      },
      "source": [
        "## Setup"
      ]
    },
    {
      "cell_type": "markdown",
      "metadata": {
        "id": "d5027929de8f"
      },
      "source": [
        "### Install SDK\n",
        "\n",
        "The new **[Google Gen AI SDK](https://ai.google.dev/gemini-api/docs/sdks)** provides programmatic access to Gemini 2.0 (and previous models) using both the [Google AI for Developers](https://ai.google.dev/gemini-api/docs) and [Vertex AI](https://cloud.google.com/vertex-ai/generative-ai/docs/overview) APIs. With a few exceptions, code that runs on one platform will run on both.\n",
        "\n",
        "More details about this new SDK on the [documentation](https://ai.google.dev/gemini-api/docs/sdks) or in the [Getting started](../gemini-2/get_started.ipynb) notebook."
      ]
    },
    {
      "cell_type": "code",
      "execution_count": 1,
      "metadata": {
        "id": "46zEFO2a9FFd",
        "outputId": "82981e55-e2e1-4cf1-c421-ce73eaef3f42",
        "colab": {
          "base_uri": "https://localhost:8080/"
        }
      },
      "outputs": [
        {
          "output_type": "stream",
          "name": "stdout",
          "text": [
            "\u001b[?25l   \u001b[90m━━━━━━━━━━━━━━━━━━━━━━━━━━━━━━━━━━━━━━━━\u001b[0m \u001b[32m0.0/130.3 kB\u001b[0m \u001b[31m?\u001b[0m eta \u001b[36m-:--:--\u001b[0m\r\u001b[2K   \u001b[90m━━━━━━━━━━━━━━━━━━━━━━━━━━━━━━━━━━━━━━━━\u001b[0m \u001b[32m130.3/130.3 kB\u001b[0m \u001b[31m4.6 MB/s\u001b[0m eta \u001b[36m0:00:00\u001b[0m\n",
            "\u001b[?25h"
          ]
        }
      ],
      "source": [
        "!pip install -U -q google-genai"
      ]
    },
    {
      "cell_type": "markdown",
      "metadata": {
        "id": "CTIfnvCn9HvH"
      },
      "source": [
        "### Set up your API key\n",
        "\n",
        "To run the following cell, your API key must be stored in a Colab Secret named `GOOGLE_API_KEY`. If you don't already have an API key, or you're not sure how to create a Colab Secret, see [Authentication](../quickstarts/Authentication.ipynb) for an example."
      ]
    },
    {
      "cell_type": "code",
      "execution_count": 2,
      "metadata": {
        "id": "A1pkoyZb9Jm3"
      },
      "outputs": [],
      "source": [
        "from google.colab import userdata\n",
        "import os\n",
        "\n",
        "os.environ['GOOGLE_API_KEY'] = userdata.get('Google_API_Key')"
      ]
    },
    {
      "cell_type": "markdown",
      "metadata": {
        "id": "GOOZsm7i9io6"
      },
      "source": [
        "### Import\n",
        "\n",
        "Import all the necessary modules."
      ]
    },
    {
      "cell_type": "code",
      "execution_count": 3,
      "metadata": {
        "id": "Yd1vs3cP8EmS"
      },
      "outputs": [],
      "source": [
        "from google import genai"
      ]
    },
    {
      "cell_type": "markdown",
      "metadata": {
        "id": "3Hx_Gw9i0Yuv"
      },
      "source": [
        "### Initialize SDK client\n",
        "\n",
        "The client will pick up your API key from the environment variable.\n",
        "To use the live API you need to set the client version to `v1alpha`."
      ]
    },
    {
      "cell_type": "code",
      "execution_count": 3,
      "metadata": {
        "id": "HghvVpbU0Uap"
      },
      "outputs": [],
      "source": [
        "from google import genai\n",
        "client = genai.Client()"
      ]
    },
    {
      "cell_type": "markdown",
      "metadata": {
        "id": "QOov6dpG99rY"
      },
      "source": [
        "### Select a model\n",
        "\n",
        "Multimodal Live API are a new capability introduced with the [Gemini 2.0](https://ai.google.dev/gemini-api/docs/models/gemini-v2) model. It won't work with previous generation models.\n"
      ]
    },
    {
      "cell_type": "code",
      "execution_count": 4,
      "metadata": {
        "id": "27Fikag0xSaB"
      },
      "outputs": [],
      "source": [
        "MODEL: str = \"gemini-2.0-flash-exp\""
      ]
    },
    {
      "cell_type": "markdown",
      "metadata": {
        "id": "jj7gDzfDOq4h"
      },
      "source": [
        "## Text to Text\n",
        "\n",
        "The simplest way to use the Live API is as a text-to-text chat interface, but it can do **a lot** more than this."
      ]
    },
    {
      "cell_type": "code",
      "execution_count": 6,
      "metadata": {
        "colab": {
          "base_uri": "https://localhost:8080/"
        },
        "id": "dDfslcyIOqgI",
        "outputId": "84c6951d-116f-40c5-e62f-36689b6b8797"
      },
      "outputs": [
        {
          "output_type": "stream",
          "name": "stdout",
          "text": [
            "Okay, let's break down how AI works. It's a broad field, so I'll give you a general overview and then touch on some key concepts and techniques.\n",
            "\n",
            "**Core Idea: Mimicking Intelligence**\n",
            "\n",
            "At its heart, Artificial Intelligence is about creating machines that can perform tasks that typically require human intelligence. This includes things like:\n",
            "\n",
            "*   **Learning:**  Acquiring information and rules for using the information.\n",
            "*   **Reasoning:**  Using logic and deduction to solve problems.\n",
            "*   **Problem-solving:**  Identifying, analyzing, and finding solutions to complex issues.\n",
            "*   **Perception:**  Interpreting sensory input (like images, sound, or text).\n",
            "*   **Understanding Natural Language:** Comprehending and generating human language.\n",
            "*   **Decision-making:** Choosing the best course of action from available options.\n",
            "\n",
            "**The Fundamental Components**\n",
            "\n",
            "AI systems generally consist of these building blocks:\n",
            "\n",
            "1.  **Data:**  This is the fuel for AI.  AI algorithms learn from data to identify patterns, make predictions, and improve their performance. The amount and quality of data are critical.\n",
            "\n",
            "2.  **Algorithms:**  These are the sets of rules or instructions that tell the AI how to process data.  Different algorithms are suited for different tasks.  Think of them as recipes for intelligence.\n",
            "\n",
            "3.  **Computing Power:**  AI, especially modern approaches like deep learning, often requires significant computing resources.  This is because training complex models involves a huge amount of computation.\n",
            "\n",
            "**Key Approaches and Techniques**\n",
            "\n",
            "Here are some of the most important approaches to AI:\n",
            "\n",
            "*   **Machine Learning (ML):**\n",
            "\n",
            "    *   This is a subfield of AI that focuses on enabling systems to learn from data without being explicitly programmed. Instead of hard-coding rules, the AI identifies patterns and creates its own rules based on the data it's given.\n",
            "    *   **Types of Machine Learning:**\n",
            "        *   **Supervised Learning:**  The algorithm is trained on labeled data, meaning the data is paired with the correct output.  For example, you might show an algorithm thousands of images of cats and dogs, labeled as \"cat\" or \"dog\".  The algorithm learns to associate features (e.g., pointy ears, tail shape) with the correct label. Common tasks include classification (categorizing data) and regression (predicting continuous values).\n",
            "        *   **Unsupervised Learning:**  The algorithm is trained on unlabeled data. It must find patterns and structures in the data on its own.  For example, an unsupervised learning algorithm might be given a dataset of customer transactions and identify different customer segments based on their purchasing behavior. Common tasks include clustering (grouping similar data points) and dimensionality reduction (simplifying data while preserving important information).\n",
            "        *   **Reinforcement Learning:**  The algorithm learns by interacting with an environment and receiving rewards or penalties for its actions.  It aims to maximize its cumulative reward over time.  This is often used for training AI to play games or control robots.\n",
            "\n",
            "*   **Deep Learning (DL):**\n",
            "\n",
            "    *   A subfield of machine learning that uses artificial neural networks with multiple layers (hence \"deep\").  These layers allow the AI to learn more complex and abstract representations of data.\n",
            "    *   **Neural Networks:** Inspired by the structure of the human brain, neural networks consist of interconnected nodes (neurons) that process and transmit information.  Each connection between neurons has a weight associated with it, which represents the strength of the connection.  The network learns by adjusting these weights to improve its performance.\n",
            "    *   Deep learning has been particularly successful in areas like image recognition, natural language processing, and speech recognition.\n",
            "    *   **Convolutional Neural Networks (CNNs):**  Excellent for image and video processing.\n",
            "    *   **Recurrent Neural Networks (RNNs):**  Well-suited for processing sequential data, like text or time series.\n",
            "    *   **Transformers:** A more recent architecture that has revolutionized natural language processing.\n",
            "\n",
            "*   **Natural Language Processing (NLP):**\n",
            "\n",
            "    *   Focuses on enabling computers to understand, interpret, and generate human language.\n",
            "    *   **Tasks:**\n",
            "        *   **Machine Translation:** Translating text from one language to another.\n",
            "        *   **Sentiment Analysis:** Determining the emotional tone of text.\n",
            "        *   **Text Summarization:** Creating concise summaries of longer texts.\n",
            "        *   **Question Answering:**  Answering questions based on a given text.\n",
            "        *   **Chatbots:**  Creating conversational agents that can interact with humans.\n",
            "\n",
            "*   **Computer Vision:**\n",
            "\n",
            "    *   Focuses on enabling computers to \"see\" and interpret images and videos.\n",
            "    *   **Tasks:**\n",
            "        *   **Object Detection:** Identifying objects in an image (e.g., cars, people, trees).\n",
            "        *   **Image Classification:**  Assigning a label to an entire image (e.g., \"cat\", \"dog\", \"landscape\").\n",
            "        *   **Image Segmentation:**  Dividing an image into regions based on their content.\n",
            "        *   **Facial Recognition:**  Identifying individuals based on their facial features.\n",
            "\n",
            "*   **Rule-Based Systems (Expert Systems):**\n",
            "\n",
            "    *   These systems use a set of predefined rules to make decisions.  They were more common in the early days of AI.\n",
            "    *   **How they work:**  The system is given a set of facts, and it applies the rules to those facts to derive new facts or make conclusions.\n",
            "    *   **Example:** A medical diagnosis system that uses rules to determine a patient's illness based on their symptoms.\n",
            "\n",
            "**The AI Development Process (Generally)**\n",
            "\n",
            "1.  **Define the Problem:**  Clearly identify the task you want the AI to perform.\n",
            "2.  **Gather Data:**  Collect a large and representative dataset related to the problem.  Clean and pre-process the data.\n",
            "3.  **Choose an Algorithm:** Select the appropriate AI technique (e.g., supervised learning, deep learning) and a specific algorithm (e.g., linear regression, convolutional neural network).\n",
            "4.  **Train the Model:**  Feed the data into the algorithm, allowing it to learn patterns and relationships.\n",
            "5.  **Evaluate the Model:**  Assess the model's performance on a separate dataset (the \"test set\") to see how well it generalizes to new, unseen data.\n",
            "6.  **Tune the Model:** Adjust the model's parameters to improve its performance.  This often involves experimentation and iterative refinement.\n",
            "7.  **Deploy the Model:**  Integrate the trained model into a real-world application.\n",
            "8.  **Monitor and Maintain:**  Continuously monitor the model's performance and retrain it with new data as needed to ensure it remains accurate and effective.\n",
            "\n",
            "**Important Considerations**\n",
            "\n",
            "*   **Bias:** AI models can inherit biases from the data they are trained on, leading to unfair or discriminatory outcomes.  It's crucial to address bias in data and algorithms.\n",
            "*   **Explainability:** Understanding how an AI model makes its decisions is important for building trust and ensuring accountability.  Some AI models (like deep neural networks) are difficult to interpret (they are \"black boxes\").  Research is ongoing to improve the explainability of AI.\n",
            "*   **Ethics:** AI raises ethical concerns about job displacement, privacy, security, and the potential for misuse.  It's important to develop and use AI responsibly and ethically.\n",
            "\n",
            "**In Summary**\n",
            "\n",
            "AI works by using data, algorithms, and computing power to create systems that can mimic human intelligence.  Machine learning, deep learning, natural language processing, and computer vision are some of the key areas within AI.  The development process involves defining a problem, gathering data, training a model, evaluating its performance, and deploying it in a real-world application.  It's crucial to address ethical considerations and ensure that AI is used responsibly.\n",
            "\n",
            "This is a high-level overview, and each of these topics could be explored in much greater depth. If you have specific areas you'd like to delve into further, just let me know!\n",
            "\n"
          ]
        }
      ],
      "source": [
        "response = client.models.generate_content(\n",
        "    model=MODEL, contents='How does AI work?'\n",
        ")\n",
        "print(response.text)"
      ]
    }
  ],
  "metadata": {
    "colab": {
      "collapsed_sections": [
        "Tce3stUlHN0L"
      ],
      "provenance": [],
      "include_colab_link": true
    },
    "kernelspec": {
      "display_name": "Python 3",
      "name": "python3"
    }
  },
  "nbformat": 4,
  "nbformat_minor": 0
}